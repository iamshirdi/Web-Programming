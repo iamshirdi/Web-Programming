{
 "cells": [
  {
   "cell_type": "code",
   "execution_count": null,
   "metadata": {},
   "outputs": [],
   "source": [
    "# cheero js and selinium pupeeter\n",
    "# https://levelup.gitconnected.com/anonymous-web-scrapping-with-node-js-tor-apify-and-cheerio-3b36ec6a45dc"
   ]
  },
  {
   "cell_type": "code",
   "execution_count": null,
   "metadata": {
    "colab": {
     "base_uri": "https://localhost:8080/",
     "height": 202
    },
    "colab_type": "code",
    "id": "PLMKKbf5rGZu",
    "outputId": "6a5f4e34-cae1-4c21-fc50-904f6ab92b1f"
   },
   "outputs": [
    {
     "name": "stdout",
     "output_type": "stream",
     "text": [
      "Reading package lists... Done\n",
      "Building dependency tree       \n",
      "Reading state information... Done\n",
      "chromium-chromedriver is already the newest version (83.0.4103.61-0ubuntu0.18.04.1).\n",
      "The following package was automatically installed and is no longer required:\n",
      "  libnvidia-common-440\n",
      "Use 'sudo apt autoremove' to remove it.\n",
      "0 upgraded, 0 newly installed, 0 to remove and 59 not upgraded.\n",
      "cp: '/usr/lib/chromium-browser/chromedriver' and '/usr/bin/chromedriver' are the same file\n",
      "Requirement already satisfied: selenium in /usr/local/lib/python3.6/dist-packages (3.141.0)\n",
      "Requirement already satisfied: urllib3 in /usr/local/lib/python3.6/dist-packages (from selenium) (1.24.3)\n"
     ]
    }
   ],
   "source": [
    "#https://github.com/garywu/google-compute-engine-selenium\n",
    "# # install chromium, its driver, and selenium\n",
    "!yes |sudo apt install chromium-chromedriver\n",
    "!sudo cp /usr/lib/chromium-browser/chromedriver /usr/bin\n",
    "!pip install selenium\n",
    "# set options to be headless, ..\n",
    "from selenium import webdriver\n",
    "from selenium.webdriver.common.action_chains import ActionChains\n",
    "from selenium.webdriver.common.by import By\n",
    "from selenium.webdriver.support.ui import WebDriverWait\n",
    "from selenium.webdriver.support import expected_conditions as ec\n",
    "options = webdriver.ChromeOptions()\n",
    "options.add_argument('--headless')\n",
    "options.add_argument('--no-sandbox')\n",
    "options.add_argument('--disable-dev-shm-usage')\n",
    "driver= webdriver.Chrome('chromedriver',options=options)\n",
    "driver.quit()\n",
    "\n",
    "# open it, go to a website, and get results\n",
    "# wd = webdriver.Chrome('chromedriver',options=options)\n",
    "# wd.get(\"https://www.website.com\")\n",
    "# print(wd.page_source)  # results"
   ]
  },
  {
   "cell_type": "code",
   "execution_count": null,
   "metadata": {
    "colab": {
     "base_uri": "https://localhost:8080/",
     "height": 34
    },
    "colab_type": "code",
    "id": "X33ULY547hL0",
    "outputId": "f0547e8a-4cb8-4a9d-e44c-940edf0b0b23"
   },
   "outputs": [
    {
     "name": "stdout",
     "output_type": "stream",
     "text": [
      "['https://www.facebook.com/pg/black9ee/videos/', 'https://www.facebook.com/pg/TomandJerryFan96/videos/']\n"
     ]
    }
   ],
   "source": [
    "users=['black9ee','TomandJerryFan96']\n",
    "urls=[]\n",
    "for u in users:\n",
    "  urls.append('https://www.facebook.com/pg/'+u+'/videos/')\n",
    "print(urls)"
   ]
  },
  {
   "cell_type": "code",
   "execution_count": null,
   "metadata": {
    "colab": {
     "base_uri": "https://localhost:8080/",
     "height": 87
    },
    "colab_type": "code",
    "id": "Z3gtmptZraf8",
    "outputId": "6c3e0795-11d4-4d4f-e2b6-18208f64d0cd"
   },
   "outputs": [
    {
     "name": "stdout",
     "output_type": "stream",
     "text": [
      "['https://www.facebook.com/pg/black9ee/videos/', 'https://www.facebook.com/pg/TomandJerryFan96/videos/', 'https://www.facebook.com/pg/cbcnews/videos/', 'https://www.facebook.com/pg/MotoGP/videos/']\n",
      "<div class=\"_2yaa\" data-key=\"tab_live_videos\"><a class=\"_2yau\" data-endpoint=\"/TomandJerryFan96/live_videos/?ref=page_internal\" href=\"/TomandJerryFan96/live_videos/?ref=page_internal\"><span class=\"_2yav\">Live</span><span aria-busy=\"true\" aria-valuemax=\"100\" aria-valuemin=\"0\" aria-valuetext=\"Loading...\" class=\"img _55ym _55yn _55yo _2wwb\" role=\"progressbar\"></span><i class=\"img sp_s897u4vCRya sx_4fcba2\"><u>Live</u></i></a></div>\n",
      "['False', 'True', 'False', 'False']\n"
     ]
    }
   ],
   "source": [
    "import requests\n",
    "from bs4 import BeautifulSoup\n",
    "\n",
    "users=['black9ee','TomandJerryFan96','cbcnews','MotoGP']\n",
    "urls=[]\n",
    "for u in users:\n",
    "  urls.append('https://www.facebook.com/pg/'+u+'/videos/')\n",
    "print(urls)\n",
    "\n",
    "\n",
    "\n",
    "# driver= webdriver.Chrome('chromedriver',options=options)\n",
    "#     driver.get('https://www.afound.com/sv-se/barn/babyklader-0-24man/sparkdrakter-bodys')\n",
    "#     driver.set_window_size(1020,720)\n",
    "#     pages=driver.find_elements_by_css_selector('span.paginator__page')\n",
    "\n",
    "#     page_ur=pages[-1].get_attribute(\"innerHTML\")\n",
    "\n",
    "live=[]\n",
    "for url in urls:\n",
    "  html_doc=requests.get(url).content.decode()\n",
    "  soup = BeautifulSoup(html_doc, 'html.parser')\n",
    "  item=soup.find_all(attrs={\"data-key\": True})\n",
    "  found=0\n",
    "  for i in item:\n",
    "    if i.find(\"i\")!=None:\n",
    "      found=1\n",
    "      print(i)\n",
    "      live.append('True')\n",
    "  if found==0:\n",
    "        live.append('False')\n",
    "\n",
    "print(live)\n"
   ]
  },
  {
   "cell_type": "code",
   "execution_count": null,
   "metadata": {
    "colab": {},
    "colab_type": "code",
    "id": "RSPBYoEMrrBf"
   },
   "outputs": [],
   "source": [
    "<video class=\"_ox1 _62vr _1yhw _400z _1vek _3yn5\" data-video-width=\"\" data-video-height=\"\" src=\"blob:https://www.facebook.com/25103562-4f75-449e-ac74-4fdad852a0f6\" preload=\"auto\" style=\"display: block;\"></video>"
   ]
  },
  {
   "cell_type": "code",
   "execution_count": null,
   "metadata": {
    "colab": {},
    "colab_type": "code",
    "id": "8S-ofcSxvnhD"
   },
   "outputs": [],
   "source": [
    "#https://developers.facebook.com/docs/plugins/embedded-video-player/"
   ]
  },
  {
   "cell_type": "code",
   "execution_count": null,
   "metadata": {
    "colab": {},
    "colab_type": "code",
    "id": "86I_ImoWfSuY"
   },
   "outputs": [],
   "source": []
  },
  {
   "cell_type": "code",
   "execution_count": null,
   "metadata": {
    "colab": {
     "base_uri": "https://localhost:8080/",
     "height": 54
    },
    "colab_type": "code",
    "id": "ccLokiSUh4V8",
    "outputId": "2b8a259c-26c4-4277-9701-6c6493944a8c"
   },
   "outputs": [
    {
     "data": {
      "text/plain": [
       "'https://scontent-iad3-1.xx.fbcdn.net/v/t15.5256-10/s526x395/106163117_592913571652833_8115294594308232849_n.jpg?_nc_cat=1&_nc_sid=f2c4d5&_nc_ohc=7yIbqATxdogAX-jcOK-&_nc_ht=scontent-iad3-1.xx&oh=b78457e27b282bb251779a6615b1fc09&oe=5F19A38E'"
      ]
     },
     "execution_count": 24,
     "metadata": {
      "tags": []
     },
     "output_type": "execute_result"
    }
   ],
   "source": [
    "driver= webdriver.Chrome('chromedriver',options=options)\n",
    "driver.get('https://www.facebook.com/TomandJerryFan96/videos/592911484986375/?v=592911484986375')\n",
    "driver.set_window_size(1020,720)\n",
    "html_doc=driver.page_source\n",
    "soup = BeautifulSoup(html_doc, 'html.parser')\n",
    "item=soup.find(\"div\",attrs={\"id\": 'contentArea'})\n",
    "# item.find(\"img\")['src'].replace('&amp;','&')"
   ]
  },
  {
   "cell_type": "code",
   "execution_count": null,
   "metadata": {
    "colab": {},
    "colab_type": "code",
    "id": "hW7QaRJEsyrJ"
   },
   "outputs": [],
   "source": []
  },
  {
   "cell_type": "code",
   "execution_count": null,
   "metadata": {
    "colab": {},
    "colab_type": "code",
    "id": "KuLXQ44PnndG"
   },
   "outputs": [],
   "source": [
    "driver= webdriver.Chrome('chromedriver',options=options)\n",
    "driver.get('https://www.facebook.com/watch/Mahercogaming/')\n",
    "driver.set_window_size(1020,720)\n",
    "html_doc=driver.page_source  \n",
    "soup = BeautifulSoup(html_doc, 'html.parser')\n",
    "item=soup.find(id=\"contentArea\")\n"
   ]
  },
  {
   "cell_type": "code",
   "execution_count": null,
   "metadata": {
    "colab": {
     "base_uri": "https://localhost:8080/",
     "height": 34
    },
    "colab_type": "code",
    "id": "PxmWLRAon7wS",
    "outputId": "9e13b06c-1fac-4ed9-befc-42b9ff26b890"
   },
   "outputs": [
    {
     "data": {
      "text/plain": [
       "'https://www.facebook.com/Mahercogaming/videos/2531589577103318/?v=2531589577103318'"
      ]
     },
     "execution_count": 48,
     "metadata": {
      "tags": []
     },
     "output_type": "execute_result"
    }
   ],
   "source": [
    "a=item.find_all(\"a\")\n",
    "ahref=a[1]['href']\n",
    "id=ahref.split('=')\n",
    "\n",
    "url='https://www.facebook.com/Mahercogaming/videos/'+id[1]+'/?v='+id[1]\n",
    "url"
   ]
  },
  {
   "cell_type": "code",
   "execution_count": null,
   "metadata": {
    "colab": {},
    "colab_type": "code",
    "id": "H21zZwhk_ToV"
   },
   "outputs": [],
   "source": [
    "driver= webdriver.Chrome('chromedriver',options=options)\n",
    "driver.get('https://www.facebook.com/watch/StoneMountain64/')\n",
    "driver.set_window_size(1020,720)\n",
    "html_doc=driver.page_source  \n",
    "soup = BeautifulSoup(html_doc, 'html.parser')\n",
    "item=soup.find(id=\"contentArea\")\n",
    "a=item.find_all(\"a\")\n",
    "\n"
   ]
  },
  {
   "cell_type": "code",
   "execution_count": null,
   "metadata": {
    "colab": {
     "base_uri": "https://localhost:8080/",
     "height": 54
    },
    "colab_type": "code",
    "id": "LM1rEqHqHxxT",
    "outputId": "0d4aec22-069b-4ebb-d857-f1c7e9e2e594"
   },
   "outputs": [
    {
     "data": {
      "text/plain": [
       "<a class=\"_1ss_\" href=\"/watch/live/?v=905807093248570\"><div class=\"l9j0dhe7 stjgntxs ni8dbmo4\" style=\"border-radius: 6px;\"><div class=\"l9j0dhe7\"><div class=\"do00u71z ni8dbmo4 stjgntxs l9j0dhe7\" style=\"padding-top: calc(57.0312%);\"><div class=\"datstx6m pmk7jnqg j9ispegn kr520xx4 k4urcfbm\"><div class=\"i09qtzwb n7fi1qx3 nq2o82sz datstx6m l8rlqa9s pmk7jnqg j9ispegn kr520xx4 cyijgrg9 k4urcfbm\"><div class=\"k4urcfbm stjgntxs ni8dbmo4 taijpn5t datstx6m j83agx80 bp9cbjyn\"><div class=\"cg1f0npj b6s8h9p6 oqujnh0m\"><span class=\"id8f4lua\"><img alt=\"\" class=\"k4urcfbm bixrwtb6 datstx6m\" src=\"https://scontent-iad3-1.xx.fbcdn.net/v/t15.5256-10/s640x640/99162182_1629872827180838_4451801078840594518_n.jpg?_nc_cat=1&amp;_nc_sid=ad6a45&amp;_nc_ohc=qtqafM10RCAAX8_npWW&amp;_nc_ht=scontent-iad3-1.xx&amp;oh=c605e03a965cf4153df50a252df15f7f&amp;oe=5F1C997D\"/></span></div></div></div><img alt=\"Video thumbnail\" class=\"i09qtzwb n7fi1qx3 km676qkl ad2k81qe myj7ivm5 f9o22wc5 nwf6jgls d2edcug0 pmk7jnqg j9ispegn kr520xx4\" src=\"https://scontent-iad3-1.xx.fbcdn.net/v/t15.5256-10/s640x640/99162182_1629872827180838_4451801078840594518_n.jpg?_nc_cat=1&amp;_nc_sid=ad6a45&amp;_nc_ohc=qtqafM10RCAAX8_npWW&amp;_nc_ht=scontent-iad3-1.xx&amp;oh=c605e03a965cf4153df50a252df15f7f&amp;oe=5F1C997D\"/></div></div></div><div class=\"i09qtzwb n7fi1qx3 b5wmifdl pmk7jnqg j9ispegn kr520xx4 lxbcnve3 pc15xi3s art1omkt ilcmz9jb\"><span class=\"i07tyfg8 rk01pc8j kfkz5moi pmk7jnqg pq6dq46d\"><i class=\"sp_ZcLAxVPv2VW sx_6f7bc5\" role=\"img\"></i></span></div><div class=\"plgsh5y4 hnlv2pgd pmk7jnqg rgmg9uty j83agx80\"><div class=\"l44iypv3 jk6sbkaj kdgqqoy6 ihh4hy1g qttc61fc rq0escxv pq6dq46d datstx6m rs0gx3tq kady6ibp dicw6rsg dwxx2s2f ipjc6fyt ph5uu5jm iuny7tx3 b3onmgus afxn4irw m8weaby5 ee40wjg4 q1gqmpn5 jbu8tgem\"><div class=\"rq0escxv l9j0dhe7 du4w35lb j83agx80 taijpn5t bp9cbjyn owycx6da btwxx1t3\"><div class=\"rq0escxv l9j0dhe7 du4w35lb j83agx80 cbu4d94t d2edcug0\"><span class=\"oi732d6d ik7dh3pa d2edcug0 qv66sw1b c1et5uql a8c37x1j hop8lmos enqfppq2 e9vueds3 j5wam9gi lrazzd5p ljqsnud1 ni8dbmo4 stjgntxs ltmttdrg g0qnabr5\" dir=\"auto\">LIVE</span></div></div></div><div class=\"bp9cbjyn d6rk862h gcieejh5 bn081pho humdl8nn izx4hr6d jk6sbkaj kdgqqoy6 ihh4hy1g qttc61fc rq0escxv j83agx80 btwxx1t3 datstx6m taijpn5t rs0gx3tq kady6ibp dicw6rsg dwxx2s2f ni8dbmo4 stjgntxs ipjc6fyt p8fzw8mz iuny7tx3 pcp91wgn l9j0dhe7 esuyzwwr\"><div class=\"rq0escxv l9j0dhe7 du4w35lb j83agx80 taijpn5t bp9cbjyn owycx6da btwxx1t3\"><div class=\"rq0escxv l9j0dhe7 du4w35lb j83agx80 cbu4d94t d2edcug0 fv0vnmcu\"><i class=\"hu5pjgll eb18blue sp_GOQP-CD62UU sx_f6f09e\"></i></div><div class=\"rq0escxv l9j0dhe7 du4w35lb j83agx80 cbu4d94t d2edcug0\"><span class=\"oi732d6d ik7dh3pa d2edcug0 qv66sw1b c1et5uql a8c37x1j hop8lmos enqfppq2 e9vueds3 j5wam9gi knj5qynh ljqsnud1 ni8dbmo4 stjgntxs ltmttdrg g0qnabr5\" dir=\"auto\">11.4K</span></div></div></div></div></div></a>"
      ]
     },
     "execution_count": 87,
     "metadata": {
      "tags": []
     },
     "output_type": "execute_result"
    }
   ],
   "source": [
    "a[1]"
   ]
  },
  {
   "cell_type": "code",
   "execution_count": null,
   "metadata": {
    "colab": {
     "base_uri": "https://localhost:8080/",
     "height": 52
    },
    "colab_type": "code",
    "id": "ejf-u9VVGbEw",
    "outputId": "badc3718-eefc-4806-b4c2-52aa0f0c3f6c"
   },
   "outputs": [
    {
     "data": {
      "application/vnd.google.colaboratory.intrinsic": {
       "type": "string"
      },
      "text/plain": [
       "'https://scontent-iad3-1.xx.fbcdn.net/v/t15.5256-10/s640x640/99162182_1629872827180838_4451801078840594518_n.jpg?_nc_cat=1&_nc_sid=ad6a45&_nc_ohc=qtqafM10RCAAX8_npWW&_nc_ht=scontent-iad3-1.xx&oh=c605e03a965cf4153df50a252df15f7f&oe=5F1C997D'"
      ]
     },
     "execution_count": 94,
     "metadata": {
      "tags": []
     },
     "output_type": "execute_result"
    }
   ],
   "source": [
    "a[1].find(\"img\",attrs={\"alt\":\"Video thumbnail\"})['src']\n",
    "\n",
    "    "
   ]
  },
  {
   "cell_type": "code",
   "execution_count": null,
   "metadata": {
    "colab": {},
    "colab_type": "code",
    "id": "SwK2-8NHMY1c"
   },
   "outputs": [],
   "source": []
  },
  {
   "cell_type": "code",
   "execution_count": null,
   "metadata": {
    "colab": {
     "base_uri": "https://localhost:8080/",
     "height": 50
    },
    "colab_type": "code",
    "id": "_w-zfEZIGkG8",
    "outputId": "08d15b73-3436-4912-c7ee-582dcca874a7"
   },
   "outputs": [
    {
     "name": "stdout",
     "output_type": "stream",
     "text": [
      "<span class=\"oi732d6d ik7dh3pa d2edcug0 qv66sw1b c1et5uql a8c37x1j hop8lmos enqfppq2 e9vueds3 j5wam9gi lrazzd5p ljqsnud1 ni8dbmo4 stjgntxs ltmttdrg g0qnabr5\" dir=\"auto\">LIVE</span>\n",
      "<span class=\"oi732d6d ik7dh3pa d2edcug0 qv66sw1b c1et5uql a8c37x1j hop8lmos enqfppq2 e9vueds3 j5wam9gi knj5qynh ljqsnud1 ni8dbmo4 stjgntxs ltmttdrg g0qnabr5\" dir=\"auto\">11.4K</span>\n"
     ]
    }
   ],
   "source": [
    "view=a[1].find_all(\"span\",attrs={\"dir\":\"auto\"})\n",
    "for v in view:\n",
    "  print(v)"
   ]
  },
  {
   "cell_type": "code",
   "execution_count": null,
   "metadata": {
    "colab": {
     "base_uri": "https://localhost:8080/",
     "height": 34
    },
    "colab_type": "code",
    "id": "fYP-S76ZJYS_",
    "outputId": "226fa6e1-7961-445e-ae1d-db9e847a7b5b"
   },
   "outputs": [
    {
     "data": {
      "text/plain": [
       "<span class=\"oi732d6d ik7dh3pa d2edcug0 qv66sw1b c1et5uql a8c37x1j hop8lmos enqfppq2 e9vueds3 j5wam9gi knj5qynh ljqsnud1 ni8dbmo4 stjgntxs ltmttdrg g0qnabr5\" dir=\"auto\">11.4K</span>"
      ]
     },
     "execution_count": 90,
     "metadata": {
      "tags": []
     },
     "output_type": "execute_result"
    }
   ],
   "source": [
    "view[-1]"
   ]
  },
  {
   "cell_type": "code",
   "execution_count": null,
   "metadata": {
    "colab": {
     "base_uri": "https://localhost:8080/",
     "height": 34
    },
    "colab_type": "code",
    "id": "WC6l-la_Jyak",
    "outputId": "4c979094-75d3-4b6b-fc99-9a57876996a0"
   },
   "outputs": [
    {
     "data": {
      "text/plain": [
       "<span class=\"oi732d6d ik7dh3pa d2edcug0 qv66sw1b c1et5uql a8c37x1j hop8lmos enqfppq2 e9vueds3 j5wam9gi lrazzd5p ljqsnud1 ni8dbmo4 stjgntxs ltmttdrg g0qnabr5\" dir=\"auto\">LIVE</span>"
      ]
     },
     "execution_count": 91,
     "metadata": {
      "tags": []
     },
     "output_type": "execute_result"
    }
   ],
   "source": [
    "view[-2]"
   ]
  },
  {
   "cell_type": "code",
   "execution_count": null,
   "metadata": {
    "colab": {},
    "colab_type": "code",
    "id": "DQhu1cavJ0RZ"
   },
   "outputs": [],
   "source": []
  }
 ],
 "metadata": {
  "colab": {
   "collapsed_sections": [],
   "name": "facebook.ipynb",
   "provenance": []
  },
  "kernelspec": {
   "display_name": "Python 3",
   "language": "python",
   "name": "python3"
  },
  "language_info": {
   "codemirror_mode": {
    "name": "ipython",
    "version": 3
   },
   "file_extension": ".py",
   "mimetype": "text/x-python",
   "name": "python",
   "nbconvert_exporter": "python",
   "pygments_lexer": "ipython3",
   "version": "3.7.1"
  }
 },
 "nbformat": 4,
 "nbformat_minor": 1
}
